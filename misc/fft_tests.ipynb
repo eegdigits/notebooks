{
 "cells": [
  {
   "cell_type": "markdown",
   "metadata": {},
   "source": [
    "## FFT playground\n",
    "---\n",
    "\n",
    "### load and filter"
   ]
  },
  {
   "cell_type": "code",
   "execution_count": null,
   "metadata": {
    "collapsed": false
   },
   "outputs": [],
   "source": [
    "# digits related code\n",
    "from digits.data import matimport\n",
    "from digits.data import select\n",
    "from digits.transform.dimreduction import SubsampleTransform, FFTransform\n",
    "from digits.utils import dotdict\n",
    "\n",
    "from scipy import fftpack, signal\n",
    "\n",
    "import numpy as np\n",
    "import matplotlib.pyplot as plt\n",
    "from matplotlib import rcParams"
   ]
  },
  {
   "cell_type": "code",
   "execution_count": null,
   "metadata": {
    "collapsed": false
   },
   "outputs": [],
   "source": [
    "imp = matimport.Importer(dataroot='../../data/thomas/artcorr/')\n",
    "imp.open('3130.h5')\n",
    "samples = imp.store.samples[:31]\n",
    "targets = imp.store.targets[:31]\n",
    "\n",
    "print(samples.shape)\n",
    "\n",
    "samples, targets = select.fromsessionlist(samples, targets, ['1'])\n",
    "samples, targets = select.frompresentationlist(samples, targets, list(range(10)))\n",
    "samples = select.fromtimerange(samples, 201, 700)\n",
    "samples = select.fromchannelblacklist(samples, ['LHEOG', 'RHEOG', 'IOL'])\n",
    "\n",
    "subsample_width=1\n",
    "samples = SubsampleTransform(width=subsample_width, verbose=True).transform(samples)"
   ]
  },
  {
   "cell_type": "code",
   "execution_count": null,
   "metadata": {
    "collapsed": false
   },
   "outputs": [],
   "source": [
    "flen=len(samples.iloc[0].loc['C1'])\n",
    "print(flen)\n",
    "#print(samples.iloc[0].loc['C1'].index.values)\n",
    "print(select.getchannelnames(samples))"
   ]
  },
  {
   "cell_type": "markdown",
   "metadata": {},
   "source": [
    "### Plots\n",
    "---"
   ]
  },
  {
   "cell_type": "code",
   "execution_count": null,
   "metadata": {
    "collapsed": false
   },
   "outputs": [],
   "source": [
    "#samples2 = SubsampleTransform(width=2).transform(samples)\n",
    "rcParams['figure.figsize'] = (8,2)\n",
    "for c in ['C1', 'Fpz', 'O1', 'O2', 'Oz']:\n",
    "    plt.plot(samples.iloc[0].loc[c].values, color='black')\n",
    "    plt.title('Channel: '+c)\n",
    "    plt.xlabel('t (ms)')\n",
    "    plt.ylabel('Voltage')\n",
    "    plt.show()"
   ]
  },
  {
   "cell_type": "code",
   "execution_count": null,
   "metadata": {
    "collapsed": false
   },
   "outputs": [],
   "source": [
    "samples2 = FFTransform(verbose=True, bins=40, multiplesof=2, fmin=2, fmax=150,\n",
    "                       rate=subsample_width/1000).transform(samples)"
   ]
  },
  {
   "cell_type": "code",
   "execution_count": null,
   "metadata": {
    "collapsed": false
   },
   "outputs": [],
   "source": [
    "rcParams['figure.figsize'] = (8,2)\n",
    "freqs = [int(x.split(\"_\")[1]) for x in samples2.loc[:,'C1'].columns.values]\n",
    "print(freqs)\n",
    "for c in ['C1', 'Fpz', 'O1']:\n",
    "    plt.bar(freqs, samples2.iloc[0].loc[c].values, color='black')\n",
    "    plt.title('Channel: '+c)\n",
    "    plt.xlabel('Power Spectrum (Hz)')\n",
    "    plt.ylabel('Magnitude')\n",
    "    plt.show()"
   ]
  },
  {
   "cell_type": "code",
   "execution_count": null,
   "metadata": {
    "collapsed": false
   },
   "outputs": [],
   "source": [
    "samples2 = FFTransform(verbose=True, bins=100, multiplesof=2, fmax=250,\n",
    "                       rate=subsample_width/1000, power=False).transform(samples)"
   ]
  },
  {
   "cell_type": "code",
   "execution_count": null,
   "metadata": {
    "collapsed": false
   },
   "outputs": [],
   "source": [
    "rcParams['figure.figsize'] = (8,2)\n",
    "freqs = [int(x.split(\"_\")[1]) for x in samples2.loc[:,'C1'].columns.values]\n",
    "for c in ['C1', 'Fpz']:\n",
    "    plt.bar(freqs, samples2.iloc[0].loc[c].values)\n",
    "    plt.title('Channel: '+c)\n",
    "    plt.xlabel('Frequencies (Re/Im interleaved) (Hz)')\n",
    "    plt.ylabel('Value')\n",
    "    plt.show()"
   ]
  },
  {
   "cell_type": "code",
   "execution_count": null,
   "metadata": {
    "collapsed": false
   },
   "outputs": [],
   "source": [
    "x1 = samples2.iloc[0].loc['C1'].iloc[0:10]\n",
    "x1"
   ]
  },
  {
   "cell_type": "code",
   "execution_count": null,
   "metadata": {
    "collapsed": false
   },
   "outputs": [],
   "source": [
    "x2 = samples2.iloc[0].loc['C1'].iloc[0:10]\n",
    "x2"
   ]
  },
  {
   "cell_type": "markdown",
   "metadata": {},
   "source": [
    "### Questions\n",
    "---"
   ]
  },
  {
   "cell_type": "markdown",
   "metadata": {},
   "source": [
    "**window**\n",
    " + hamming, hanning, blackman (default)?\n",
    " + tune?\n",
    " \n",
    "**how to handle Re() and Im()**\n",
    " + currently: magnitude `sqrt(Re(x) + Im(x))`\n",
    " + drop Im() and then use abs() ?\n",
    " \n",
    "**What to do with f=0 and f=max**\n",
    " \n",
    " ---"
   ]
  },
  {
   "cell_type": "markdown",
   "metadata": {},
   "source": [
    "**freq resolution and averaging**\n",
    " + need to reduce dimensions\n",
    " + subsample and then cut? (loses high freq spectrum)\n",
    " + or cut and then average? (loses resolution)\n",
    " + average evenly spaced?"
   ]
  },
  {
   "cell_type": "code",
   "execution_count": null,
   "metadata": {
    "collapsed": false
   },
   "outputs": [],
   "source": [
    "print(fftpack.rfftfreq(500, 1/1000))\n",
    "\n",
    "# drop 75%\n",
    "print(fftpack.rfftfreq(125, 1/250))\n",
    "print(fftpack.rfftfreq(500, 1/1000).reshape(-1,4).mean(axis=1))"
   ]
  },
  {
   "cell_type": "code",
   "execution_count": null,
   "metadata": {
    "collapsed": true
   },
   "outputs": [],
   "source": []
  }
 ],
 "metadata": {
  "kernelspec": {
   "display_name": "Python 3",
   "language": "python",
   "name": "python3"
  },
  "language_info": {
   "codemirror_mode": {
    "name": "ipython",
    "version": 3
   },
   "file_extension": ".py",
   "mimetype": "text/x-python",
   "name": "python",
   "nbconvert_exporter": "python",
   "pygments_lexer": "ipython3",
   "version": "3.5.2"
  }
 },
 "nbformat": 4,
 "nbformat_minor": 1
}
