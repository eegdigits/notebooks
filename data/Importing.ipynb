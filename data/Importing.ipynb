{
 "cells": [
  {
   "cell_type": "markdown",
   "metadata": {},
   "source": [
    "---\n",
    "\n",
    "# Import and save a single subject ID\n",
    "\n",
    "---"
   ]
  },
  {
   "cell_type": "markdown",
   "metadata": {},
   "source": [
    "***Import Block***"
   ]
  },
  {
   "cell_type": "code",
   "execution_count": null,
   "metadata": {
    "collapsed": true,
    "scrolled": true
   },
   "outputs": [],
   "source": [
    "from digits.data import matimport\n",
    "import numpy as np\n",
    "import os"
   ]
  },
  {
   "cell_type": "markdown",
   "metadata": {},
   "source": [
    "---\n",
    "\n",
    "Our main importer object is called Importer from the matimport package.\n",
    "\n",
    "---"
   ]
  },
  {
   "cell_type": "code",
   "execution_count": null,
   "metadata": {
    "scrolled": true
   },
   "outputs": [],
   "source": [
    "dataroot='../../data/thomas/artcorr/'\n",
    "imp = matimport.Importer(dataroot=dataroot)"
   ]
  },
  {
   "cell_type": "markdown",
   "metadata": {},
   "source": [
    "---\n",
    "\n",
    "Let's see what files are inside the dataroot.\n",
    "\n",
    "---"
   ]
  },
  {
   "cell_type": "code",
   "execution_count": null,
   "metadata": {},
   "outputs": [],
   "source": [
    "sorted(os.listdir(dataroot))"
   ]
  },
  {
   "cell_type": "markdown",
   "metadata": {},
   "source": [
    "---\n",
    "No we want to import subject **3130** with session 7 and above and save it to a single hdf5 file called `3130.h5`.\n",
    "\n",
    "---"
   ]
  },
  {
   "cell_type": "code",
   "execution_count": null,
   "metadata": {
    "scrolled": true
   },
   "outputs": [],
   "source": [
    "#sessionids = [str(x).zfill(2) for x in np.arange(7,17)]\n",
    "sessionids = [str(x).zfill(2) for x in [1,7,8,9,10,11,12,13,14,15,16]]\n",
    "print(sessionids)\n",
    "#subject = '3130'"
   ]
  },
  {
   "cell_type": "markdown",
   "metadata": {},
   "source": [
    "---\n",
    "The **Importer** object will successively add each session to its `ds` attribute.\n",
    "\n",
    "<i style=\"color:red\"> Careful </i>, this will require at least **4 GB** of free memory:\n",
    "\n",
    "---"
   ]
  },
  {
   "cell_type": "code",
   "execution_count": null,
   "metadata": {
    "scrolled": true
   },
   "outputs": [],
   "source": [
    "subjects  = [3130, 3131, 3132, 3233, 3134, 3135, 3136, 3237, 3138, 3239,\n",
    "             3240, 3241, 3242, 3243,       3245, 3146, 3147, 3248, 3149,\n",
    "             3250, 3251, 3252, 3253, 3154, 3255, 3156, 3157, 3158, 3159,\n",
    "             3260, 3161, 3162]\n",
    "for subject in subjects:\n",
    "    imp = matimport.Importer(dataroot=dataroot)\n",
    "    for sessionid in sessionids:\n",
    "        imp.add_session(subject, sessionid)\n",
    "    imp.save(subject+'.h5', force=True)"
   ]
  },
  {
   "cell_type": "markdown",
   "metadata": {},
   "source": [
    "---\n",
    "If that was successfull we should have a flattened samples and targets attached to the `ds` attribute.\n",
    "\n",
    "---"
   ]
  },
  {
   "cell_type": "code",
   "execution_count": null,
   "metadata": {
    "scrolled": true
   },
   "outputs": [],
   "source": [
    "print(imp.ds.samples.shape)\n",
    "print(imp.ds.targets.shape)"
   ]
  },
  {
   "cell_type": "markdown",
   "metadata": {},
   "source": [
    "---\n",
    "Finally, we can save the **ds** dataset to an hdf5 file inside the **imported/** folder of our **dataroot** for easier use in successive sessions.  \n",
    "Use `force=True` to override any existing files.\n",
    "\n",
    "---"
   ]
  },
  {
   "cell_type": "code",
   "execution_count": null,
   "metadata": {
    "scrolled": true
   },
   "outputs": [],
   "source": [
    "imp.save(subject+'.h5', force=True)"
   ]
  },
  {
   "cell_type": "code",
   "execution_count": null,
   "metadata": {},
   "outputs": [],
   "source": [
    "os.listdir(imp.importpath)"
   ]
  },
  {
   "cell_type": "markdown",
   "metadata": {},
   "source": [
    "Done."
   ]
  }
 ],
 "metadata": {
  "kernelspec": {
   "display_name": "Python 3",
   "language": "python",
   "name": "python3"
  },
  "language_info": {
   "codemirror_mode": {
    "name": "ipython",
    "version": 3
   },
   "file_extension": ".py",
   "mimetype": "text/x-python",
   "name": "python",
   "nbconvert_exporter": "python",
   "pygments_lexer": "ipython3",
   "version": "3.5.2"
  }
 },
 "nbformat": 4,
 "nbformat_minor": 1
}
