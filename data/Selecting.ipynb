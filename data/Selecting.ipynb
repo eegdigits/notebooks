{
 "cells": [
  {
   "cell_type": "markdown",
   "metadata": {},
   "source": [
    "---\n",
    "## 2. Select subsets from our dataset\n",
    "\n",
    "\n",
    "---"
   ]
  },
  {
   "cell_type": "code",
   "execution_count": 1,
   "metadata": {},
   "outputs": [],
   "source": [
    "from digits.data import matimport\n",
    "from digits.data import select"
   ]
  },
  {
   "cell_type": "code",
   "execution_count": 2,
   "metadata": {
    "collapsed": true
   },
   "outputs": [],
   "source": [
    "dataroot='../../data/thomas/artcorr/'\n",
    "imp = matimport.Importer(dataroot=dataroot)"
   ]
  },
  {
   "cell_type": "markdown",
   "metadata": {},
   "source": [
    "With `imp.open()` we can use HDF5 references to our samples and targets datasets without using up initial memory.  \n",
    "The `samples` and `targets` objects are attached to the `store` attribute.\n",
    "\n",
    "In this notebook we will load the samples and targets from the file right away."
   ]
  },
  {
   "cell_type": "code",
   "execution_count": 3,
   "metadata": {},
   "outputs": [],
   "source": [
    "imp.open('3131.h5')\n",
    "samples = imp.store.samples\n",
    "targets = imp.store.targets"
   ]
  },
  {
   "cell_type": "code",
   "execution_count": 4,
   "metadata": {},
   "outputs": [
    {
     "data": {
      "text/plain": [
       "10720"
      ]
     },
     "execution_count": 4,
     "metadata": {},
     "output_type": "execute_result"
    }
   ],
   "source": [
    "670*16"
   ]
  },
  {
   "cell_type": "code",
   "execution_count": 5,
   "metadata": {},
   "outputs": [
    {
     "name": "stdout",
     "output_type": "stream",
     "text": [
      "['01', '07', '08', '09', '10', '11', '12', '13', '14', '15', '16']\n",
      "632\n",
      "650\n",
      "652\n",
      "652\n",
      "683\n",
      "687\n",
      "669\n",
      "658\n",
      "610\n",
      "672\n",
      "609\n"
     ]
    }
   ],
   "source": [
    "print(select.getsessionnames(samples))\n",
    "for sess in select.getsessionnames(samples):\n",
    "    print(samples.xs(sess, level='session').shape[0])"
   ]
  },
  {
   "cell_type": "markdown",
   "metadata": {},
   "source": [
    "The functions in `digits.data.select` will provide a high level abstraction for subselecting and pruning the large dataset, specific to the studies parameters. For instance:\n",
    "\n",
    "\n",
    "#### column-wise\n",
    "\n",
    "+ select only sampling points from a time window with `select.fromtimerange(samples, min, max)`\n",
    "+ select all sampling points from a named list of channels with `select.fromchannellist(samples, list)`\n",
    "+ select all sampling points from a range with `select.fromchannelrange(samples, min, max)`\n",
    "\n",
    "\n",
    "#### row-wise\n",
    "\n",
    "+ sellect all trials from a list of named session ids with `select.fromtrialid(samples, id-list)`\n",
    "+ ...\n",
    "\n",
    "\n",
    "Some helper functions inside the `select` package help to get the names of the index/column labels.\n",
    "\n",
    "\n",
    "The idea is to incrementally reduce the dataset to the desired size and/or programmatically loop over a number of blocks in the dataset with a sliding window analysis in mind.\n",
    "\n",
    "Example:"
   ]
  },
  {
   "cell_type": "code",
   "execution_count": 6,
   "metadata": {
    "scrolled": true
   },
   "outputs": [
    {
     "name": "stdout",
     "output_type": "stream",
     "text": [
      "['A1', 'AF3', 'AF4', 'AF7', 'AF8', 'C1', 'C2', 'C3', 'C4', 'C5', 'C6', 'CP1', 'CP2', 'CP3', 'CP4', 'CP5', 'CP6', 'CPz', 'Cz', 'F1', 'F2', 'F3', 'F4', 'F5', 'F6', 'F7', 'F8', 'FC1', 'FC2', 'FC3', 'FC4', 'FC5', 'FC6', 'FCz', 'FT7', 'FT8', 'Fp1', 'Fp2', 'Fpz', 'Fz', 'IOL', 'LHEOG', 'O1', 'O2', 'Oz', 'P1', 'P2', 'P3', 'P4', 'P5', 'P6', 'P7', 'P8', 'PO3', 'PO4', 'PO7', 'PO8', 'POz', 'Pz', 'RHEOG', 'T7', 'T8', 'TP7', 'TP8']\n",
      "['01', '07', '08', '09', '10', '11', '12', '13', '14', '15', '16']\n",
      "['0', '1', '10', '100', '101', '102', '103', '104', '105', '106', '107', '108', '109', '11', '110', '111', '112', '113', '114', '115', '116', '117', '118', '119', '12', '120', '121', '122', '123', '124', '125', '126', '127', '128', '129', '13', '130', '131', '132', '133', '134', '135', '136', '137', '138', '139', '14', '140', '141', '142', '143', '144', '145', '146', '147', '148', '149', '15', '150', '151', '152', '153', '154', '155', '156', '157', '158', '159', '16', '160', '161', '162', '163', '164', '165', '166', '167', '168', '169', '17', '170', '171', '172', '173', '174', '175', '176', '177', '178', '179', '18', '180', '181', '182', '183', '184', '185', '186', '187', '188', '189', '19', '190', '191', '192', '193', '194', '195', '196', '197', '198', '199', '2', '20', '200', '201', '202', '203', '204', '205', '206', '207', '208', '209', '21', '210', '211', '212', '213', '214', '215', '216', '217', '218', '219', '22', '220', '221', '222', '223', '224', '225', '226', '227', '228', '229', '23', '230', '231', '232', '233', '234', '235', '236', '237', '238', '239', '24', '240', '241', '242', '243', '244', '245', '246', '247', '248', '249', '25', '250', '251', '252', '253', '254', '255', '256', '257', '258', '259', '26', '260', '261', '262', '263', '264', '265', '266', '267', '268', '269', '27', '270', '271', '272', '273', '274', '275', '276', '277', '278', '279', '28', '280', '281', '282', '283', '284', '285', '286', '287', '288', '289', '29', '290', '291', '292', '293', '294', '295', '296', '297', '298', '299', '3', '30', '300', '301', '302', '303', '304', '305', '306', '307', '308', '309', '31', '310', '311', '312', '313', '314', '315', '316', '317', '318', '319', '32', '320', '321', '322', '323', '324', '325', '326', '327', '328', '329', '33', '330', '331', '332', '333', '334', '335', '336', '337', '338', '339', '34', '340', '341', '342', '343', '344', '345', '346', '347', '348', '349', '35', '350', '351', '352', '353', '354', '355', '356', '357', '358', '359', '36', '360', '361', '362', '363', '364', '365', '366', '367', '368', '369', '37', '370', '371', '372', '373', '374', '375', '376', '377', '378', '379', '38', '380', '381', '382', '383', '384', '385', '386', '387', '388', '389', '39', '390', '391', '392', '393', '394', '395', '396', '397', '398', '399', '4', '40', '400', '401', '402', '403', '404', '405', '406', '407', '408', '409', '41', '410', '411', '412', '413', '414', '415', '416', '417', '418', '419', '42', '420', '421', '422', '423', '424', '425', '426', '427', '428', '429', '43', '430', '431', '432', '433', '434', '435', '436', '437', '438', '439', '44', '440', '441', '442', '443', '444', '445', '446', '447', '448', '449', '45', '450', '451', '452', '453', '454', '455', '456', '457', '458', '459', '46', '460', '461', '462', '463', '464', '465', '466', '467', '468', '469', '47', '470', '471', '472', '473', '474', '475', '476', '477', '478', '479', '48', '480', '481', '482', '483', '484', '485', '486', '487', '488', '489', '49', '490', '491', '492', '493', '494', '495', '496', '497', '498', '499', '5', '50', '500', '501', '502', '503', '504', '505', '506', '507', '508', '509', '51', '510', '511', '512', '513', '514', '515', '516', '517', '518', '519', '52', '520', '521', '522', '523', '524', '525', '526', '527', '528', '529', '53', '530', '531', '532', '533', '534', '535', '536', '537', '538', '539', '54', '540', '541', '542', '543', '544', '545', '546', '547', '548', '549', '55', '550', '551', '552', '553', '554', '555', '556', '557', '558', '559', '56', '560', '561', '562', '563', '564', '565', '566', '567', '568', '569', '57', '570', '571', '572', '573', '574', '575', '576', '577', '578', '579', '58', '580', '581', '582', '583', '584', '585', '586', '587', '588', '589', '59', '590', '591', '592', '593', '594', '595', '596', '597', '598', '599', '6', '60', '600', '601', '602', '603', '604', '605', '606', '607', '608', '609', '61', '610', '611', '612', '613', '614', '615', '616', '617', '618', '619', '62', '620', '621', '622', '623', '624', '625', '626', '627', '628', '629', '63', '630', '631', '632', '633', '634', '635', '636', '637', '638', '639', '64', '640', '641', '642', '643', '644', '645', '646', '647', '648', '649', '65', '650', '651', '652', '653', '654', '655', '656', '657', '658', '659', '66', '660', '661', '662', '663', '664', '665', '666', '667', '668', '669', '67', '670', '671', '672', '673', '674', '675', '676', '677', '678', '679', '68', '680', '681', '682', '683', '684', '685', '686', '69', '7', '70', '71', '72', '73', '74', '75', '76', '77', '78', '79', '8', '80', '81', '82', '83', '84', '85', '86', '87', '88', '89', '9', '90', '91', '92', '93', '94', '95', '96', '97', '98', '99']\n"
     ]
    }
   ],
   "source": [
    "print(select.getchannelnames(samples))\n",
    "print(select.getsessionnames(samples))\n",
    "print(select.getpresentationnames(samples))"
   ]
  },
  {
   "cell_type": "code",
   "execution_count": 7,
   "metadata": {},
   "outputs": [
    {
     "name": "stdout",
     "output_type": "stream",
     "text": [
      "['01', '07', '08', '09', '10', '11', '12', '13', '14', '15', '16']\n"
     ]
    }
   ],
   "source": [
    "print(select.getsessionnames(samples))"
   ]
  },
  {
   "cell_type": "markdown",
   "metadata": {},
   "source": [
    "The level/index names can be display with `head()` quite nicely:"
   ]
  },
  {
   "cell_type": "code",
   "execution_count": 8,
   "metadata": {},
   "outputs": [
    {
     "data": {
      "text/html": [
       "<div>\n",
       "<table border=\"1\" class=\"dataframe\">\n",
       "  <thead>\n",
       "    <tr>\n",
       "      <th></th>\n",
       "      <th></th>\n",
       "      <th></th>\n",
       "      <th>channel</th>\n",
       "      <th colspan=\"10\" halign=\"left\">A1</th>\n",
       "      <th>...</th>\n",
       "      <th colspan=\"10\" halign=\"left\">TP8</th>\n",
       "    </tr>\n",
       "    <tr>\n",
       "      <th></th>\n",
       "      <th></th>\n",
       "      <th></th>\n",
       "      <th>sample</th>\n",
       "      <th>t_0000</th>\n",
       "      <th>t_0001</th>\n",
       "      <th>t_0002</th>\n",
       "      <th>t_0003</th>\n",
       "      <th>t_0004</th>\n",
       "      <th>t_0005</th>\n",
       "      <th>t_0006</th>\n",
       "      <th>t_0007</th>\n",
       "      <th>t_0008</th>\n",
       "      <th>t_0009</th>\n",
       "      <th>...</th>\n",
       "      <th>t_1391</th>\n",
       "      <th>t_1392</th>\n",
       "      <th>t_1393</th>\n",
       "      <th>t_1394</th>\n",
       "      <th>t_1395</th>\n",
       "      <th>t_1396</th>\n",
       "      <th>t_1397</th>\n",
       "      <th>t_1398</th>\n",
       "      <th>t_1399</th>\n",
       "      <th>t_1400</th>\n",
       "    </tr>\n",
       "    <tr>\n",
       "      <th>subject</th>\n",
       "      <th>session</th>\n",
       "      <th>trial</th>\n",
       "      <th>presentation</th>\n",
       "      <th></th>\n",
       "      <th></th>\n",
       "      <th></th>\n",
       "      <th></th>\n",
       "      <th></th>\n",
       "      <th></th>\n",
       "      <th></th>\n",
       "      <th></th>\n",
       "      <th></th>\n",
       "      <th></th>\n",
       "      <th></th>\n",
       "      <th></th>\n",
       "      <th></th>\n",
       "      <th></th>\n",
       "      <th></th>\n",
       "      <th></th>\n",
       "      <th></th>\n",
       "      <th></th>\n",
       "      <th></th>\n",
       "      <th></th>\n",
       "      <th></th>\n",
       "    </tr>\n",
       "  </thead>\n",
       "  <tbody>\n",
       "    <tr>\n",
       "      <th rowspan=\"5\" valign=\"top\">3131</th>\n",
       "      <th rowspan=\"5\" valign=\"top\">01</th>\n",
       "      <th rowspan=\"4\" valign=\"top\">1</th>\n",
       "      <th>0</th>\n",
       "      <td>1.689615</td>\n",
       "      <td>-2.453192</td>\n",
       "      <td>-8.765578</td>\n",
       "      <td>-11.972319</td>\n",
       "      <td>-9.849177</td>\n",
       "      <td>-7.114474</td>\n",
       "      <td>-9.006877</td>\n",
       "      <td>-13.935571</td>\n",
       "      <td>-16.840109</td>\n",
       "      <td>-16.823076</td>\n",
       "      <td>...</td>\n",
       "      <td>15.935822</td>\n",
       "      <td>13.320987</td>\n",
       "      <td>9.833160</td>\n",
       "      <td>5.308144</td>\n",
       "      <td>0.260753</td>\n",
       "      <td>-3.780688</td>\n",
       "      <td>-5.544036</td>\n",
       "      <td>-5.443503</td>\n",
       "      <td>-5.029633</td>\n",
       "      <td>-4.876393</td>\n",
       "    </tr>\n",
       "    <tr>\n",
       "      <th>1</th>\n",
       "      <td>4.328066</td>\n",
       "      <td>6.830514</td>\n",
       "      <td>2.813455</td>\n",
       "      <td>-2.613245</td>\n",
       "      <td>-3.789852</td>\n",
       "      <td>-0.751709</td>\n",
       "      <td>2.737862</td>\n",
       "      <td>4.809949</td>\n",
       "      <td>6.287606</td>\n",
       "      <td>6.930873</td>\n",
       "      <td>...</td>\n",
       "      <td>4.333800</td>\n",
       "      <td>3.705289</td>\n",
       "      <td>7.250734</td>\n",
       "      <td>10.510907</td>\n",
       "      <td>10.063163</td>\n",
       "      <td>6.407798</td>\n",
       "      <td>2.393856</td>\n",
       "      <td>0.804607</td>\n",
       "      <td>2.572249</td>\n",
       "      <td>6.067993</td>\n",
       "    </tr>\n",
       "    <tr>\n",
       "      <th>2</th>\n",
       "      <td>8.778225</td>\n",
       "      <td>5.560692</td>\n",
       "      <td>1.972173</td>\n",
       "      <td>0.300447</td>\n",
       "      <td>0.200939</td>\n",
       "      <td>1.036754</td>\n",
       "      <td>1.537859</td>\n",
       "      <td>0.578754</td>\n",
       "      <td>-0.983312</td>\n",
       "      <td>-1.907570</td>\n",
       "      <td>...</td>\n",
       "      <td>7.796444</td>\n",
       "      <td>-7.895495</td>\n",
       "      <td>-16.413845</td>\n",
       "      <td>-11.682496</td>\n",
       "      <td>-2.190552</td>\n",
       "      <td>1.083942</td>\n",
       "      <td>-1.305389</td>\n",
       "      <td>-2.260050</td>\n",
       "      <td>-1.327338</td>\n",
       "      <td>-4.151634</td>\n",
       "    </tr>\n",
       "    <tr>\n",
       "      <th>3</th>\n",
       "      <td>-0.492122</td>\n",
       "      <td>1.264945</td>\n",
       "      <td>5.403270</td>\n",
       "      <td>9.796667</td>\n",
       "      <td>13.128324</td>\n",
       "      <td>13.470269</td>\n",
       "      <td>8.742441</td>\n",
       "      <td>1.281598</td>\n",
       "      <td>-2.315708</td>\n",
       "      <td>0.684538</td>\n",
       "      <td>...</td>\n",
       "      <td>-21.384834</td>\n",
       "      <td>-15.984956</td>\n",
       "      <td>-6.571479</td>\n",
       "      <td>-1.409841</td>\n",
       "      <td>-4.616758</td>\n",
       "      <td>-11.223720</td>\n",
       "      <td>-12.282315</td>\n",
       "      <td>-3.693588</td>\n",
       "      <td>9.363037</td>\n",
       "      <td>15.343504</td>\n",
       "    </tr>\n",
       "    <tr>\n",
       "      <th>2</th>\n",
       "      <th>4</th>\n",
       "      <td>-0.221068</td>\n",
       "      <td>0.586229</td>\n",
       "      <td>1.735736</td>\n",
       "      <td>0.739493</td>\n",
       "      <td>-3.061715</td>\n",
       "      <td>-6.123262</td>\n",
       "      <td>-6.326950</td>\n",
       "      <td>-5.859096</td>\n",
       "      <td>-6.358163</td>\n",
       "      <td>-6.213858</td>\n",
       "      <td>...</td>\n",
       "      <td>12.679294</td>\n",
       "      <td>12.537173</td>\n",
       "      <td>12.354441</td>\n",
       "      <td>13.662560</td>\n",
       "      <td>15.598869</td>\n",
       "      <td>16.173630</td>\n",
       "      <td>13.845768</td>\n",
       "      <td>8.383247</td>\n",
       "      <td>1.906764</td>\n",
       "      <td>-1.338092</td>\n",
       "    </tr>\n",
       "  </tbody>\n",
       "</table>\n",
       "<p>5 rows × 89664 columns</p>\n",
       "</div>"
      ],
      "text/plain": [
       "channel                                   A1                                 \\\n",
       "sample                                t_0000    t_0001    t_0002     t_0003   \n",
       "subject session trial presentation                                            \n",
       "3131    01      1     0             1.689615 -2.453192 -8.765578 -11.972319   \n",
       "                      1             4.328066  6.830514  2.813455  -2.613245   \n",
       "                      2             8.778225  5.560692  1.972173   0.300447   \n",
       "                      3            -0.492122  1.264945  5.403270   9.796667   \n",
       "                2     4            -0.221068  0.586229  1.735736   0.739493   \n",
       "\n",
       "channel                                                                        \\\n",
       "sample                                 t_0004     t_0005    t_0006     t_0007   \n",
       "subject session trial presentation                                              \n",
       "3131    01      1     0             -9.849177  -7.114474 -9.006877 -13.935571   \n",
       "                      1             -3.789852  -0.751709  2.737862   4.809949   \n",
       "                      2              0.200939   1.036754  1.537859   0.578754   \n",
       "                      3             13.128324  13.470269  8.742441   1.281598   \n",
       "                2     4             -3.061715  -6.123262 -6.326950  -5.859096   \n",
       "\n",
       "channel                                                     ...      \\\n",
       "sample                                 t_0008     t_0009    ...       \n",
       "subject session trial presentation                          ...       \n",
       "3131    01      1     0            -16.840109 -16.823076    ...       \n",
       "                      1              6.287606   6.930873    ...       \n",
       "                      2             -0.983312  -1.907570    ...       \n",
       "                      3             -2.315708   0.684538    ...       \n",
       "                2     4             -6.358163  -6.213858    ...       \n",
       "\n",
       "channel                                   TP8                        \\\n",
       "sample                                 t_1391     t_1392     t_1393   \n",
       "subject session trial presentation                                    \n",
       "3131    01      1     0             15.935822  13.320987   9.833160   \n",
       "                      1              4.333800   3.705289   7.250734   \n",
       "                      2              7.796444  -7.895495 -16.413845   \n",
       "                      3            -21.384834 -15.984956  -6.571479   \n",
       "                2     4             12.679294  12.537173  12.354441   \n",
       "\n",
       "channel                                                              \\\n",
       "sample                                 t_1394     t_1395     t_1396   \n",
       "subject session trial presentation                                    \n",
       "3131    01      1     0              5.308144   0.260753  -3.780688   \n",
       "                      1             10.510907  10.063163   6.407798   \n",
       "                      2            -11.682496  -2.190552   1.083942   \n",
       "                      3             -1.409841  -4.616758 -11.223720   \n",
       "                2     4             13.662560  15.598869  16.173630   \n",
       "\n",
       "channel                                                                       \n",
       "sample                                 t_1397    t_1398    t_1399     t_1400  \n",
       "subject session trial presentation                                            \n",
       "3131    01      1     0             -5.544036 -5.443503 -5.029633  -4.876393  \n",
       "                      1              2.393856  0.804607  2.572249   6.067993  \n",
       "                      2             -1.305389 -2.260050 -1.327338  -4.151634  \n",
       "                      3            -12.282315 -3.693588  9.363037  15.343504  \n",
       "                2     4             13.845768  8.383247  1.906764  -1.338092  \n",
       "\n",
       "[5 rows x 89664 columns]"
      ]
     },
     "execution_count": 8,
     "metadata": {},
     "output_type": "execute_result"
    }
   ],
   "source": [
    "samples.head()"
   ]
  },
  {
   "cell_type": "markdown",
   "metadata": {},
   "source": [
    "Now for the selection:"
   ]
  },
  {
   "cell_type": "code",
   "execution_count": 9,
   "metadata": {},
   "outputs": [
    {
     "name": "stdout",
     "output_type": "stream",
     "text": [
      "(7174, 89664)\n",
      "['01', '07', '08', '09', '10', '11', '12', '13', '14', '15', '16']\n"
     ]
    }
   ],
   "source": [
    "print(samples.shape)\n",
    "print(select.getsessionnames(samples))"
   ]
  },
  {
   "cell_type": "code",
   "execution_count": 10,
   "metadata": {},
   "outputs": [
    {
     "data": {
      "text/plain": [
       "(1282, 89664)"
      ]
     },
     "execution_count": 10,
     "metadata": {},
     "output_type": "execute_result"
    }
   ],
   "source": [
    "samples, targets = select.fromsessionlist(samples, targets, ['14', '15'])\n",
    "samples.shape"
   ]
  },
  {
   "cell_type": "code",
   "execution_count": 11,
   "metadata": {},
   "outputs": [
    {
     "name": "stdout",
     "output_type": "stream",
     "text": [
      "(1282, 2802)\n"
     ]
    }
   ],
   "source": [
    "samples = select.fromchannellist(samples, ['C1', 'C2'])\n",
    "print(samples.shape)"
   ]
  },
  {
   "cell_type": "code",
   "execution_count": 12,
   "metadata": {},
   "outputs": [
    {
     "name": "stdout",
     "output_type": "stream",
     "text": [
      "(1282, 4)\n"
     ]
    }
   ],
   "source": [
    "samples = select.fromtimerange(samples, 't_0200', 't_0201')\n",
    "print(samples.shape)"
   ]
  },
  {
   "cell_type": "code",
   "execution_count": 13,
   "metadata": {
    "collapsed": true
   },
   "outputs": [],
   "source": [
    "samples, targets = select.frompresentationlist(samples, targets, ['1','2','3','4'])"
   ]
  },
  {
   "cell_type": "code",
   "execution_count": 14,
   "metadata": {},
   "outputs": [
    {
     "data": {
      "text/html": [
       "<div>\n",
       "<table border=\"1\" class=\"dataframe\">\n",
       "  <thead>\n",
       "    <tr>\n",
       "      <th></th>\n",
       "      <th></th>\n",
       "      <th></th>\n",
       "      <th>channel</th>\n",
       "      <th colspan=\"2\" halign=\"left\">C1</th>\n",
       "      <th colspan=\"2\" halign=\"left\">C2</th>\n",
       "    </tr>\n",
       "    <tr>\n",
       "      <th></th>\n",
       "      <th></th>\n",
       "      <th></th>\n",
       "      <th>sample</th>\n",
       "      <th>t_0200</th>\n",
       "      <th>t_0201</th>\n",
       "      <th>t_0200</th>\n",
       "      <th>t_0201</th>\n",
       "    </tr>\n",
       "    <tr>\n",
       "      <th>subject</th>\n",
       "      <th>session</th>\n",
       "      <th>trial</th>\n",
       "      <th>presentation</th>\n",
       "      <th></th>\n",
       "      <th></th>\n",
       "      <th></th>\n",
       "      <th></th>\n",
       "    </tr>\n",
       "  </thead>\n",
       "  <tbody>\n",
       "    <tr>\n",
       "      <th rowspan=\"8\" valign=\"top\">3131</th>\n",
       "      <th rowspan=\"4\" valign=\"top\">14</th>\n",
       "      <th rowspan=\"4\" valign=\"top\">2</th>\n",
       "      <th>1</th>\n",
       "      <td>-7.291202</td>\n",
       "      <td>-8.348700</td>\n",
       "      <td>-10.118226</td>\n",
       "      <td>-11.385602</td>\n",
       "    </tr>\n",
       "    <tr>\n",
       "      <th>2</th>\n",
       "      <td>5.475969</td>\n",
       "      <td>9.075162</td>\n",
       "      <td>9.528195</td>\n",
       "      <td>12.702423</td>\n",
       "    </tr>\n",
       "    <tr>\n",
       "      <th>3</th>\n",
       "      <td>13.696177</td>\n",
       "      <td>14.089633</td>\n",
       "      <td>20.607351</td>\n",
       "      <td>20.646475</td>\n",
       "    </tr>\n",
       "    <tr>\n",
       "      <th>4</th>\n",
       "      <td>3.592678</td>\n",
       "      <td>3.019830</td>\n",
       "      <td>5.601668</td>\n",
       "      <td>5.647057</td>\n",
       "    </tr>\n",
       "    <tr>\n",
       "      <th rowspan=\"4\" valign=\"top\">15</th>\n",
       "      <th rowspan=\"2\" valign=\"top\">1</th>\n",
       "      <th>1</th>\n",
       "      <td>-0.402161</td>\n",
       "      <td>-0.086583</td>\n",
       "      <td>-2.192876</td>\n",
       "      <td>-2.454573</td>\n",
       "    </tr>\n",
       "    <tr>\n",
       "      <th>2</th>\n",
       "      <td>-9.592463</td>\n",
       "      <td>-10.213227</td>\n",
       "      <td>-16.365511</td>\n",
       "      <td>-16.116913</td>\n",
       "    </tr>\n",
       "    <tr>\n",
       "      <th rowspan=\"2\" valign=\"top\">2</th>\n",
       "      <th>3</th>\n",
       "      <td>-4.315301</td>\n",
       "      <td>-3.262175</td>\n",
       "      <td>-3.724870</td>\n",
       "      <td>-2.534175</td>\n",
       "    </tr>\n",
       "    <tr>\n",
       "      <th>4</th>\n",
       "      <td>3.713143</td>\n",
       "      <td>5.164251</td>\n",
       "      <td>7.716980</td>\n",
       "      <td>9.143118</td>\n",
       "    </tr>\n",
       "  </tbody>\n",
       "</table>\n",
       "</div>"
      ],
      "text/plain": [
       "channel                                    C1                    C2           \n",
       "sample                                 t_0200     t_0201     t_0200     t_0201\n",
       "subject session trial presentation                                            \n",
       "3131    14      2     1             -7.291202  -8.348700 -10.118226 -11.385602\n",
       "                      2              5.475969   9.075162   9.528195  12.702423\n",
       "                      3             13.696177  14.089633  20.607351  20.646475\n",
       "                      4              3.592678   3.019830   5.601668   5.647057\n",
       "        15      1     1             -0.402161  -0.086583  -2.192876  -2.454573\n",
       "                      2             -9.592463 -10.213227 -16.365511 -16.116913\n",
       "                2     3             -4.315301  -3.262175  -3.724870  -2.534175\n",
       "                      4              3.713143   5.164251   7.716980   9.143118"
      ]
     },
     "execution_count": 14,
     "metadata": {},
     "output_type": "execute_result"
    }
   ],
   "source": [
    "samples.head(10)"
   ]
  },
  {
   "cell_type": "code",
   "execution_count": 15,
   "metadata": {},
   "outputs": [
    {
     "name": "stdout",
     "output_type": "stream",
     "text": [
      "\\begin{tabular}{llllrrrr}\n",
      "\\toprule\n",
      "     &    &   &   &         C1 &            &         C2 &            \\\\\n",
      "     &    &   &   &     t\\_0200 &     t\\_0201 &     t\\_0200 &     t\\_0201 \\\\\n",
      "subject & session & trial & presentation &            &            &            &            \\\\\n",
      "\\midrule\n",
      "3131 & 14 & 2 & 1 &  -7.291202 &  -8.348700 & -10.118226 & -11.385602 \\\\\n",
      "     &    &   & 2 &   5.475969 &   9.075162 &   9.528195 &  12.702423 \\\\\n",
      "     &    &   & 3 &  13.696177 &  14.089633 &  20.607351 &  20.646475 \\\\\n",
      "     &    &   & 4 &   3.592678 &   3.019830 &   5.601668 &   5.647057 \\\\\n",
      "     & 15 & 1 & 1 &  -0.402161 &  -0.086583 &  -2.192876 &  -2.454573 \\\\\n",
      "     &    &   & 2 &  -9.592463 & -10.213227 & -16.365511 & -16.116913 \\\\\n",
      "     &    & 2 & 3 &  -4.315301 &  -3.262175 &  -3.724870 &  -2.534175 \\\\\n",
      "     &    &   & 4 &   3.713143 &   5.164251 &   7.716980 &   9.143118 \\\\\n",
      "\\bottomrule\n",
      "\\end{tabular}\n",
      "\n"
     ]
    }
   ],
   "source": [
    "print(samples.head(10).to_latex())"
   ]
  },
  {
   "cell_type": "markdown",
   "metadata": {},
   "source": [
    "doc: http://pandas.pydata.org/pandas-docs/stable/advanced.html#advanced-xs"
   ]
  }
 ],
 "metadata": {
  "kernelspec": {
   "display_name": "Python 3",
   "language": "python",
   "name": "python3"
  },
  "language_info": {
   "codemirror_mode": {
    "name": "ipython",
    "version": 3
   },
   "file_extension": ".py",
   "mimetype": "text/x-python",
   "name": "python",
   "nbconvert_exporter": "python",
   "pygments_lexer": "ipython3",
   "version": "3.5.2"
  }
 },
 "nbformat": 4,
 "nbformat_minor": 1
}
