{
 "cells": [
  {
   "cell_type": "markdown",
   "metadata": {},
   "source": [
    "---\n",
    "\n",
    "# bulk import mat files\n",
    "---"
   ]
  },
  {
   "cell_type": "code",
   "execution_count": null,
   "metadata": {
    "collapsed": true,
    "scrolled": true
   },
   "outputs": [],
   "source": [
    "from digits.data import matimport\n",
    "import numpy as np\n",
    "import os"
   ]
  },
  {
   "cell_type": "code",
   "execution_count": null,
   "metadata": {
    "collapsed": false,
    "scrolled": true
   },
   "outputs": [],
   "source": [
    "dataroot='../../data/thomas/artcorr/'\n",
    "imp = matimport.Importer(dataroot=dataroot)"
   ]
  },
  {
   "cell_type": "code",
   "execution_count": null,
   "metadata": {
    "collapsed": true
   },
   "outputs": [],
   "source": [
    "sorted(os.listdir(dataroot))"
   ]
  },
  {
   "cell_type": "code",
   "execution_count": null,
   "metadata": {
    "collapsed": false
   },
   "outputs": [],
   "source": [
    "sessionids = [str(x).zfill(2) for x in [1,7,8,9,10,11,12,13,14,15,16]]\n",
    "subjects  = [str(x) for x in [3130, 3131, 3132, 3233, 3134, 3135, 3136, 3237, 3138, 3239,\n",
    "             3240, 3241, 3242, 3243,       3245, 3146, 3147, 3248, 3149,\n",
    "             3250, 3251, 3252, 3253, 3154, 3255, 3156, 3157, 3158, 3159,\n",
    "             3260, 3161, 3162]]\n",
    "for subject in subjects:\n",
    "    imp = matimport.Importer(dataroot=dataroot)\n",
    "    for sessionid in sessionids:\n",
    "        try:\n",
    "            imp.add_session(subject, sessionid)\n",
    "        except FileNotFoundError:\n",
    "            print('session {} for subject {} not found'.format(sessionid, subject))\n",
    "    \n",
    "    print(imp.ds.samples.shape)\n",
    "    print(imp.ds.targets.shape)\n",
    "    imp.save(subject+'.h5', force=True)\n",
    "\n",
    "os.listdir(imp.importpath)"
   ]
  },
  {
   "cell_type": "markdown",
   "metadata": {},
   "source": [
    "Done."
   ]
  }
 ],
 "metadata": {
  "kernelspec": {
   "display_name": "Python 3",
   "language": "python",
   "name": "python3"
  },
  "language_info": {
   "codemirror_mode": {
    "name": "ipython",
    "version": 3
   },
   "file_extension": ".py",
   "mimetype": "text/x-python",
   "name": "python",
   "nbconvert_exporter": "python",
   "pygments_lexer": "ipython3",
   "version": "3.5.2"
  }
 },
 "nbformat": 4,
 "nbformat_minor": 0
}
