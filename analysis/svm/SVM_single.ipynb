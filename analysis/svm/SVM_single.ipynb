{
 "cells": [
  {
   "cell_type": "markdown",
   "metadata": {
    "collapsed": true
   },
   "source": [
    "---\n",
    "\n",
    "# simple SVM\n",
    "\n",
    "### Content\n",
    "\n",
    "+ [1. Notebook description](#1.-Notebook-Description)\n",
    "+ [2. Load and Select](#2.-Load-And-Select)\n",
    "+ [3. Grid Search](#3.-Grid-Search)\n",
    "+ [4. Plots](#3.-Plots)\n",
    "\n",
    "---"
   ]
  },
  {
   "cell_type": "markdown",
   "metadata": {},
   "source": [
    "# 1. Notebook Description\n",
    "\n",
    "Run a single SVM for two arbitrary labels ([1,8]) and some time window.\n",
    "This notebook is mainly used to construct plots for my thesis. No actual results are generated this way.\n",
    "\n",
    "\n",
    "---\n",
    "\n",
    "**Imports:**"
   ]
  },
  {
   "cell_type": "code",
   "execution_count": 1,
   "metadata": {},
   "outputs": [
    {
     "name": "stdout",
     "output_type": "stream",
     "text": [
      "The autoreload extension is already loaded. To reload it, use:\n",
      "  %reload_ext autoreload\n",
      "Populating the interactive namespace from numpy and matplotlib\n"
     ]
    }
   ],
   "source": [
    "%load_ext autoreload\n",
    "%autoreload 2\n",
    "%pylab inline"
   ]
  },
  {
   "cell_type": "code",
   "execution_count": 2,
   "metadata": {},
   "outputs": [
    {
     "name": "stderr",
     "output_type": "stream",
     "text": [
      "/usr/lib/python3/dist-packages/matplotlib/__init__.py:1352: UserWarning:  This call to matplotlib.use() has no effect\n",
      "because the backend has already been chosen;\n",
      "matplotlib.use() must be called *before* pylab, matplotlib.pyplot,\n",
      "or matplotlib.backends is imported for the first time.\n",
      "\n",
      "  warnings.warn(_use_error_msg)\n",
      "/usr/lib/python3/dist-packages/sklearn/cross_validation.py:44: DeprecationWarning: This module was deprecated in version 0.18 in favor of the model_selection module into which all the refactored classes and functions are moved. Also note that the interface of the new CV iterators are different from that of this module. This module will be removed in 0.20.\n",
      "  \"This module will be removed in 0.20.\", DeprecationWarning)\n",
      "/usr/lib/python3/dist-packages/sklearn/grid_search.py:43: DeprecationWarning: This module was deprecated in version 0.18 in favor of the model_selection module into which all the refactored classes and functions are moved. This module will be removed in 0.20.\n",
      "  DeprecationWarning)\n"
     ]
    }
   ],
   "source": [
    "# digits related code\n",
    "from digits.data import matimport\n",
    "from digits.data import select\n",
    "from digits.metrics.cfm import Confusion, ConfusionGrid\n",
    "from digits.metrics import scores\n",
    "from digits.inspect.plot import normhist\n",
    "from digits.transform.dimreduction import AverageTransform, SubsampleTransform\n",
    "\n",
    "# system libraries\n",
    "from sklearn.svm import SVC\n",
    "from sklearn.cross_validation import train_test_split\n",
    "from sklearn.preprocessing import MinMaxScaler\n",
    "from sklearn.grid_search import GridSearchCV, ParameterGrid\n",
    "\n",
    "import matplotlib.pyplot as plt"
   ]
  },
  {
   "cell_type": "markdown",
   "metadata": {},
   "source": [
    "# 2. Load and Select"
   ]
  },
  {
   "cell_type": "code",
   "execution_count": 3,
   "metadata": {},
   "outputs": [],
   "source": [
    "imp = matimport.Importer(dataroot='../../../data/thomas/artcorr/')\n",
    "imp.open('3130.h5')"
   ]
  },
  {
   "cell_type": "code",
   "execution_count": 4,
   "metadata": {},
   "outputs": [
    {
     "data": {
      "text/plain": [
       "(7204, 89664)"
      ]
     },
     "execution_count": 4,
     "metadata": {},
     "output_type": "execute_result"
    }
   ],
   "source": [
    "samples = imp.store.samples\n",
    "targets = imp.store.targets\n",
    "samples.shape"
   ]
  },
  {
   "cell_type": "code",
   "execution_count": 5,
   "metadata": {},
   "outputs": [
    {
     "name": "stdout",
     "output_type": "stream",
     "text": [
      "running SubsampleTransform for sample 445/445[target 8]"
     ]
    }
   ],
   "source": [
    "#samples, targets = select.fromsessionlist(samples, targets, ['14','15','16'])\n",
    "samples, targets = select.fromsessionblacklist(samples, targets, ['01'])\n",
    "samples = select.fromchannelblacklist(samples, ['RHEOG', 'LHEOG', 'IOL'])\n",
    "samples, targets = select.fromtargetlist(samples, targets, [1, 8])\n",
    "samples = select.fromtimerange(samples, 't_0200', 't_0600')\n",
    "samples, targets = AverageTransform(average=3, verbose=True).transform(samples, targets)\n",
    "samples = SubsampleTransform(width=5, verbose=True).transform(samples)"
   ]
  },
  {
   "cell_type": "code",
   "execution_count": 6,
   "metadata": {},
   "outputs": [
    {
     "data": {
      "text/plain": [
       "(445, 4941)"
      ]
     },
     "execution_count": 6,
     "metadata": {},
     "output_type": "execute_result"
    }
   ],
   "source": [
    "samples.shape"
   ]
  },
  {
   "cell_type": "code",
   "execution_count": 7,
   "metadata": {},
   "outputs": [],
   "source": [
    "#mmscaler = MinMaxScaler(feature_range=(-1,1))\n",
    "#split = train_test_split(mmscaler.fit_transform(samples.values),\n",
    "split = train_test_split(samples.values,\n",
    "                         targets.values.flatten(),\n",
    "                         test_size=0.2,\n",
    "                         stratify=targets.values.flatten())\n",
    "X_train, X_test, y_train, y_test = split"
   ]
  },
  {
   "cell_type": "code",
   "execution_count": 8,
   "metadata": {},
   "outputs": [
    {
     "name": "stdout",
     "output_type": "stream",
     "text": [
      "[-20.39038449 -19.98126789 -19.57215129 -19.16303469 -18.75391809\n",
      " -18.34480149 -17.93568489 -17.52656829 -17.11745169 -16.70833509\n",
      " -16.29921849 -15.89010189 -15.48098529 -15.07186869 -14.66275209\n",
      " -14.25363549 -13.84451889 -13.43540229 -13.02628569 -12.61716909\n",
      " -12.2080525  -11.7989359  -11.3898193  -10.9807027  -10.5715861\n",
      " -10.1624695   -9.7533529   -9.3442363   -8.9351197   -8.5260031\n",
      "  -8.1168865   -7.7077699   -7.2986533   -6.8895367   -6.4804201\n",
      "  -6.0713035   -5.6621869   -5.2530703   -4.8439537   -4.4348371\n",
      "  -4.0257205   -3.6166039   -3.2074873   -2.7983707   -2.3892541\n",
      "  -1.9801375   -1.5710209   -1.1619043   -0.7527877   -0.3436711\n",
      "   0.0654455    0.4745621    0.8836787    1.2927953    1.7019119\n",
      "   2.1110285    2.5201451    2.9292617    3.3383783    3.7474949\n",
      "   4.1566115    4.5657281    4.9748447    5.3839613    5.7930779\n",
      "   6.2021945    6.6113111    7.0204277    7.4295443    7.8386609\n",
      "   8.2477775    8.6568941    9.06601069   9.47512729   9.88424389\n",
      "  10.29336049  10.70247709  11.11159369  11.52071029  11.92982689\n",
      "  12.33894349  12.74806009  13.15717669  13.56629329  13.97540989\n",
      "  14.38452649  14.79364309  15.20275969  15.61187629  16.02099289\n",
      "  16.43010949  16.83922609  17.24834269  17.65745929  18.06657589\n",
      "  18.47569249  18.88480909  19.29392569  19.70304229  20.11215889]\n"
     ]
    },
    {
     "data": {
      "image/png": "[encoded data removed]",
      "text/plain": [
       "<matplotlib.figure.Figure at 0x7f9ef05a7080>"
      ]
     },
     "metadata": {},
     "output_type": "display_data"
    }
   ],
   "source": [
    "normhist(X_train)"
   ]
  },
  {
   "cell_type": "markdown",
   "metadata": {},
   "source": [
    "\n",
    "# 3. Grid Search"
   ]
  },
  {
   "cell_type": "code",
   "execution_count": 9,
   "metadata": {},
   "outputs": [
    {
     "name": "stdout",
     "output_type": "stream",
     "text": [
      "Fitting 10 folds for each of 20 candidates, totalling 200 fits\n"
     ]
    },
    {
     "name": "stderr",
     "output_type": "stream",
     "text": [
      "[Parallel(n_jobs=32)]: Done 136 tasks      | elapsed:   10.8s\n",
      "[Parallel(n_jobs=32)]: Done 200 out of 200 | elapsed:   15.0s finished\n"
     ]
    }
   ],
   "source": [
    "params = [\n",
    "    {\n",
    "      'kernel': ['linear'],\n",
    "      'C': np.logspace(-8,2,20),\n",
    "    }\n",
    "]\n",
    "grid = GridSearchCV(SVC(), params, n_jobs=32, verbose=1, cv=10)\n",
    "_ = grid.fit(X_train, y_train)"
   ]
  },
  {
   "cell_type": "markdown",
   "metadata": {},
   "source": [
    "# 4. Plots"
   ]
  },
  {
   "cell_type": "code",
   "execution_count": 10,
   "metadata": {},
   "outputs": [
    {
     "name": "stdout",
     "output_type": "stream",
     "text": [
      "[ 0.5         0.50505051  0.51010101  0.51515152  0.52020202  0.52525253\n",
      "  0.53030303  0.53535354  0.54040404  0.54545455  0.55050505  0.55555556\n",
      "  0.56060606  0.56565657  0.57070707  0.57575758  0.58080808  0.58585859\n",
      "  0.59090909  0.5959596   0.6010101   0.60606061  0.61111111  0.61616162\n",
      "  0.62121212  0.62626263  0.63131313  0.63636364  0.64141414  0.64646465\n",
      "  0.65151515  0.65656566  0.66161616  0.66666667  0.67171717  0.67676768\n",
      "  0.68181818  0.68686869  0.69191919  0.6969697   0.7020202   0.70707071\n",
      "  0.71212121  0.71717172  0.72222222  0.72727273  0.73232323  0.73737374\n",
      "  0.74242424  0.74747475  0.75252525  0.75757576  0.76262626  0.76767677\n",
      "  0.77272727  0.77777778  0.78282828  0.78787879  0.79292929  0.7979798\n",
      "  0.8030303   0.80808081  0.81313131  0.81818182  0.82323232  0.82828283\n",
      "  0.83333333  0.83838384  0.84343434  0.84848485  0.85353535  0.85858586\n",
      "  0.86363636  0.86868687  0.87373737  0.87878788  0.88383838  0.88888889\n",
      "  0.89393939  0.8989899   0.9040404   0.90909091  0.91414141  0.91919192\n",
      "  0.92424242  0.92929293  0.93434343  0.93939394  0.94444444  0.94949495\n",
      "  0.95454545  0.95959596  0.96464646  0.96969697  0.97474747  0.97979798\n",
      "  0.98484848  0.98989899  0.99494949  1.        ]\n"
     ]
    },
    {
     "data": {
      "image/png": "[encoded data removed]",
      "text/plain": [
       "<matplotlib.figure.Figure at 0x7f9e74e2a320>"
      ]
     },
     "metadata": {},
     "output_type": "display_data"
    }
   ],
   "source": [
    "normhist([x[1] for x in grid.grid_scores_], left=0.5, right=1.0)\n",
    "#plt.savefig('out/SVM_linear_single_avg_sub_gridhist_3130.png')\n",
    "#np.save('SVM_linear_single_avg_3130.npy', grid)"
   ]
  },
  {
   "cell_type": "code",
   "execution_count": 11,
   "metadata": {},
   "outputs": [
    {
     "data": {
      "image/png": "[encoded data removed]",
      "text/plain": [
       "<matplotlib.figure.Figure at 0x7f9e74e2a2b0>"
      ]
     },
     "metadata": {},
     "output_type": "display_data"
    }
   ],
   "source": [
    "Confusion(grid, X_test, y_test).plot()\n",
    "#Confusion(grid, X_test, y_test).plot(save_file='out/SVM_linear_single_avg_sub_3130.png')"
   ]
  },
  {
   "cell_type": "markdown",
   "metadata": {},
   "source": [
    "---"
   ]
  }
 ],
 "metadata": {
  "kernelspec": {
   "display_name": "Python 3",
   "language": "python",
   "name": "python3"
  },
  "language_info": {
   "codemirror_mode": {
    "name": "ipython",
    "version": 3
   },
   "file_extension": ".py",
   "mimetype": "text/x-python",
   "name": "python",
   "nbconvert_exporter": "python",
   "pygments_lexer": "ipython3",
   "version": "3.5.2"
  }
 },
 "nbformat": 4,
 "nbformat_minor": 1
}
